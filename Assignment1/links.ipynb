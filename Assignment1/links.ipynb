{
 "cells": [
  {
   "cell_type": "code",
   "execution_count": 2,
   "metadata": {},
   "outputs": [],
   "source": [
    "from bs4 import BeautifulSoup\n",
    "import requests"
   ]
  },
  {
   "cell_type": "code",
   "execution_count": 3,
   "metadata": {},
   "outputs": [],
   "source": [
    "url=\"https://pubmed.ncbi.nlm.nih.gov/\"\n"
   ]
  },
  {
   "cell_type": "code",
   "execution_count": 4,
   "metadata": {},
   "outputs": [
    {
     "name": "stdout",
     "output_type": "stream",
     "text": [
      "Title of the page is:  PubMed\n"
     ]
    }
   ],
   "source": [
    "response=requests.get(url)\n",
    "soup= BeautifulSoup(response.text,'html.parser')\n",
    "title= soup.title.string\n",
    "print(\"Title of the page is: \",title)"
   ]
  },
  {
   "cell_type": "code",
   "execution_count": 5,
   "metadata": {},
   "outputs": [
    {
     "name": "stdout",
     "output_type": "stream",
     "text": [
      "Total number of links in the page:  69\n"
     ]
    }
   ],
   "source": [
    "links=soup.find_all(\"a\")\n",
    "print(\"Total number of links in the page: \",len(links))"
   ]
  },
  {
   "cell_type": "code",
   "execution_count": 6,
   "metadata": {},
   "outputs": [
    {
     "name": "stdout",
     "output_type": "stream",
     "text": [
      "0 #home-page\n",
      "1 https://www.ncbi.nlm.nih.gov/\n",
      "2 https://account.ncbi.nlm.nih.gov\n",
      "3 /myncbi/\n",
      "4 /myncbi/collections/bibliography/\n",
      "5 /account/settings/\n",
      "6 /account/signout/\n",
      "7 https://www.ncbi.nlm.nih.gov/guide/browsers/#ncbi_accesskeys\n",
      "8 https://www.ncbi.nlm.nih.gov\n",
      "9 /myncbi/\n",
      "10 #maincontent\n",
      "11 #\n",
      "12 None\n",
      "13 /\n",
      "14 #\n",
      "15 #\n",
      "16 /advanced/\n",
      "17 /clipboard/\n",
      "18 /about/\n",
      "19 /help/\n",
      "20 https://support.nlm.nih.gov/knowledgebase/article/KA-03304/en-us/\n",
      "21 /advanced/\n",
      "22 /clinical/\n",
      "23 /citmatch/\n",
      "24 https://www.ncbi.nlm.nih.gov/books/NBK25497/\n",
      "25 /download/\n",
      "26 /batchcitmatch/\n",
      "27 https://www.ncbi.nlm.nih.gov/mesh/\n",
      "28 https://www.ncbi.nlm.nih.gov/nlmcatalog/journals/\n",
      "29 /39788123/\n",
      "30 /39787240/\n",
      "31 /39794860/\n",
      "32 /39804674/\n",
      "33 /39779925/\n",
      "34 None\n",
      "35 /?term=Am+J+Clin+Nutr%5Bjour%5D+AND+2025%2F1%2F15%5Bedat%5D\n",
      "36 /?term=Cell+Metab%5Bjour%5D+AND+2025%2F1%2F15%5Bedat%5D\n",
      "37 /?term=Eur+J+Clin+Nutr%5Bjour%5D+AND+2025%2F1%2F15%5Bedat%5D\n",
      "38 /?term=J+Clin+Endocrinol+Metab%5Bjour%5D+AND+2025%2F1%2F15%5Bedat%5D\n",
      "39 /?term=J+Neurosci%5Bjour%5D+AND+2025%2F1%2F15%5Bedat%5D\n",
      "40 /?term=Nat+Commun%5Bjour%5D+AND+2025%2F1%2F15%5Bedat%5D\n",
      "41 /?term=Nat+Rev+Cancer%5Bjour%5D+AND+2025%2F1%2F15%5Bedat%5D\n",
      "42 /?term=Nature%5Bjour%5D+AND+2025%2F1%2F15%5Bedat%5D\n",
      "43 /?term=Neuron%5Bjour%5D+AND+2025%2F1%2F15%5Bedat%5D\n",
      "44 /?term=Sci+Rep%5Bjour%5D+AND+2025%2F1%2F15%5Bedat%5D\n",
      "45 https://www.ncbi.nlm.nih.gov/mesh/\n",
      "46 https://www.ncbi.nlm.nih.gov/pmc/\n",
      "47 https://www.ncbi.nlm.nih.gov/books\n",
      "48 /disclaimer/\n",
      "49 https://twitter.com/ncbi\n",
      "50 https://www.facebook.com/ncbi.nlm\n",
      "51 https://www.linkedin.com/company/ncbinlm\n",
      "52 https://github.com/ncbi\n",
      "53 https://ncbiinsights.ncbi.nlm.nih.gov/\n",
      "54 https://www.nlm.nih.gov/socialmedia/index.html\n",
      "55 https://twitter.com/NLM_NIH\n",
      "56 https://www.facebook.com/nationallibraryofmedicine\n",
      "57 https://www.youtube.com/user/NLMNIH\n",
      "58 https://www.google.com/maps/place/8600+Rockville+Pike,+Bethesda,+MD+20894/@38.9959508,-77.101021,17z/data=!3m1!4b1!4m5!3m4!1s0x89b7c95e25765ddb:0x19156f88b27635b8!8m2!3d38.9959508!4d-77.0988323\n",
      "59 https://www.nlm.nih.gov/web_policies.html\n",
      "60 https://www.nih.gov/institutes-nih/nih-office-director/office-communications-public-liaison/freedom-information-act-office\n",
      "61 https://www.hhs.gov/vulnerability-disclosure-policy/index.html\n",
      "62 https://support.nlm.nih.gov/\n",
      "63 https://www.nlm.nih.gov/accessibility.html\n",
      "64 https://www.nlm.nih.gov/careers/careers.html\n",
      "65 //www.nlm.nih.gov/\n",
      "66 https://www.nih.gov/\n",
      "67 https://www.hhs.gov/\n",
      "68 https://www.usa.gov/\n"
     ]
    }
   ],
   "source": [
    "for i, link in enumerate(links):\n",
    "    print(i,link.get(\"href\"))"
   ]
  },
  {
   "cell_type": "code",
   "execution_count": 7,
   "metadata": {},
   "outputs": [
    {
     "name": "stdout",
     "output_type": "stream",
     "text": [
      "Links on the webpage:\n",
      "1. Text: Skip to main page content | Link: #home-page\n",
      "2. Text:  | Link: https://www.ncbi.nlm.nih.gov/\n",
      "3. Text: Log in | Link: https://account.ncbi.nlm.nih.gov\n",
      "4. Text: Dashboard | Link: /myncbi/\n",
      "5. Text: Publications | Link: /myncbi/collections/bibliography/\n",
      "6. Text: Account settings | Link: /account/settings/\n",
      "7. Text: Log out | Link: /account/signout/\n",
      "8. Text: Access keys | Link: https://www.ncbi.nlm.nih.gov/guide/browsers/#ncbi_accesskeys\n",
      "9. Text: NCBI Homepage | Link: https://www.ncbi.nlm.nih.gov\n",
      "10. Text: MyNCBI Homepage | Link: /myncbi/\n",
      "11. Text: Main Content | Link: #maincontent\n",
      "12. Text: Main Navigation | Link: #\n",
      "14. Text:  | Link: /\n",
      "15. Text:  | Link: #\n",
      "16. Text:  | Link: #\n",
      "17. Text: Advanced | Link: /advanced/\n",
      "18. Text: Clipboard | Link: /clipboard/\n",
      "19. Text: About PubMed | Link: /about/\n",
      "20. Text: FAQs & User Guide | Link: /help/\n",
      "21. Text: Finding Full Text | Link: https://support.nlm.nih.gov/knowledgebase/article/KA-03304/en-us/\n",
      "22. Text: Advanced Search | Link: /advanced/\n",
      "23. Text: Clinical Queries | Link: /clinical/\n",
      "24. Text: Single Citation Matcher | Link: /citmatch/\n",
      "25. Text: E-utilities API | Link: https://www.ncbi.nlm.nih.gov/books/NBK25497/\n",
      "26. Text: FTP | Link: /download/\n",
      "27. Text: Batch Citation Matcher | Link: /batchcitmatch/\n",
      "28. Text: MeSH Database | Link: https://www.ncbi.nlm.nih.gov/mesh/\n",
      "29. Text: Journals | Link: https://www.ncbi.nlm.nih.gov/nlmcatalog/journals/\n",
      "30. Text: Norepinephrine-mediated slow vasomotion drives glymphatic clearance during sleep. | Link: /39788123/\n",
      "31. Text: Sexually dimorphic dopaminergic circuits determine sex preference. | Link: /39787240/\n",
      "32. Text: Global status and attributable risk factors of breast, cervical, ovarian, and uterine cancers from 1990 to 2021. | Link: /39794860/\n",
      "33. Text: Intra-Arterial Urokinase After Endovascular Reperfusion for Acute Ischemic Stroke: The POST-UK Randomized Clinical Trial. | Link: /39804674/\n",
      "34. Text: The gut-brain axis underlying hepatic encephalopathy in liver cirrhosis. | Link: /39779925/\n",
      "36. Text: Am J Clin Nutr (1) | Link: /?term=Am+J+Clin+Nutr%5Bjour%5D+AND+2025%2F1%2F15%5Bedat%5D\n",
      "37. Text: Cell Metab (1) | Link: /?term=Cell+Metab%5Bjour%5D+AND+2025%2F1%2F15%5Bedat%5D\n",
      "38. Text: Eur J Clin Nutr (2) | Link: /?term=Eur+J+Clin+Nutr%5Bjour%5D+AND+2025%2F1%2F15%5Bedat%5D\n",
      "39. Text: J Clin Endocrinol Metab (2) | Link: /?term=J+Clin+Endocrinol+Metab%5Bjour%5D+AND+2025%2F1%2F15%5Bedat%5D\n",
      "40. Text: J Neurosci (4) | Link: /?term=J+Neurosci%5Bjour%5D+AND+2025%2F1%2F15%5Bedat%5D\n",
      "41. Text: Nat Commun (44) | Link: /?term=Nat+Commun%5Bjour%5D+AND+2025%2F1%2F15%5Bedat%5D\n",
      "42. Text: Nat Rev Cancer (2) | Link: /?term=Nat+Rev+Cancer%5Bjour%5D+AND+2025%2F1%2F15%5Bedat%5D\n",
      "43. Text: Nature (16) | Link: /?term=Nature%5Bjour%5D+AND+2025%2F1%2F15%5Bedat%5D\n",
      "44. Text: Neuron (5) | Link: /?term=Neuron%5Bjour%5D+AND+2025%2F1%2F15%5Bedat%5D\n",
      "45. Text: Sci Rep (73) | Link: /?term=Sci+Rep%5Bjour%5D+AND+2025%2F1%2F15%5Bedat%5D\n",
      "46. Text: MeSH | Link: https://www.ncbi.nlm.nih.gov/mesh/\n",
      "47. Text: PMC | Link: https://www.ncbi.nlm.nih.gov/pmc/\n",
      "48. Text: Bookshelf | Link: https://www.ncbi.nlm.nih.gov/books\n",
      "49. Text: Disclaimer | Link: /disclaimer/\n",
      "50. Text: Twitter | Link: https://twitter.com/ncbi\n",
      "51. Text: Facebook | Link: https://www.facebook.com/ncbi.nlm\n",
      "52. Text: LinkedIn | Link: https://www.linkedin.com/company/ncbinlm\n",
      "53. Text: GitHub | Link: https://github.com/ncbi\n",
      "54. Text:  | Link: https://ncbiinsights.ncbi.nlm.nih.gov/\n",
      "55. Text: Connect with NLM | Link: https://www.nlm.nih.gov/socialmedia/index.html\n",
      "56. Text: Twitter | Link: https://twitter.com/NLM_NIH\n",
      "57. Text: SM-Facebook | Link: https://www.facebook.com/nationallibraryofmedicine\n",
      "58. Text: SM-Youtube | Link: https://www.youtube.com/user/NLMNIH\n",
      "59. Text: 8600 Rockville PikeBethesda, MD 20894 | Link: https://www.google.com/maps/place/8600+Rockville+Pike,+Bethesda,+MD+20894/@38.9959508,-77.101021,17z/data=!3m1!4b1!4m5!3m4!1s0x89b7c95e25765ddb:0x19156f88b27635b8!8m2!3d38.9959508!4d-77.0988323\n",
      "60. Text: Web Policies | Link: https://www.nlm.nih.gov/web_policies.html\n",
      "61. Text: FOIA | Link: https://www.nih.gov/institutes-nih/nih-office-director/office-communications-public-liaison/freedom-information-act-office\n",
      "62. Text: HHS Vulnerability Disclosure | Link: https://www.hhs.gov/vulnerability-disclosure-policy/index.html\n",
      "63. Text: Help | Link: https://support.nlm.nih.gov/\n",
      "64. Text: Accessibility | Link: https://www.nlm.nih.gov/accessibility.html\n",
      "65. Text: Careers | Link: https://www.nlm.nih.gov/careers/careers.html\n",
      "66. Text: NLM | Link: //www.nlm.nih.gov/\n",
      "67. Text: NIH | Link: https://www.nih.gov/\n",
      "68. Text: HHS | Link: https://www.hhs.gov/\n",
      "69. Text: USA.gov | Link: https://www.usa.gov/\n"
     ]
    }
   ],
   "source": [
    "# Extract all links with text and href\n",
    "links = soup.find_all('a')  # Finds all <a> tags (hyperlinks)\n",
    "\n",
    "print(\"Links on the webpage:\")\n",
    "for i, link in enumerate(links, start=1):\n",
    "    href = link.get('href')  # Extract the URL\n",
    "    text = link.get_text(strip=True)  # Extract the clickable text of the link\n",
    "    if href:  # Only consider links with href attributes\n",
    "        print(f\"{i}. Text: {text} | Link: {href}\")"
   ]
  },
  {
   "cell_type": "markdown",
   "metadata": {},
   "source": [
    "### FILTERING LINKS"
   ]
  },
  {
   "cell_type": "code",
   "execution_count": 15,
   "metadata": {},
   "outputs": [
    {
     "name": "stdout",
     "output_type": "stream",
     "text": [
      "Filtered Links:\n",
      "19. Text: About PubMed | Link: /about/\n",
      "29. Text: Journals | Link: https://www.ncbi.nlm.nih.gov/nlmcatalog/journals/\n",
      "42. Text: Nat Rev Cancer (2) | Link: /?term=Nat+Rev+Cancer%5Bjour%5D+AND+2025%2F1%2F15%5Bedat%5D\n",
      "44. Text: Neuron (5) | Link: /?term=Neuron%5Bjour%5D+AND+2025%2F1%2F15%5Bedat%5D\n",
      "55. Text: Connect with NLM | Link: https://www.nlm.nih.gov/socialmedia/index.html\n",
      "62. Text: HHS Vulnerability Disclosure | Link: https://www.hhs.gov/vulnerability-disclosure-policy/index.html\n",
      "66. Text: NLM | Link: //www.nlm.nih.gov/\n",
      "67. Text: NIH | Link: https://www.nih.gov/\n",
      "68. Text: HHS | Link: https://www.hhs.gov/\n",
      "69. Text: USA.gov | Link: https://www.usa.gov/\n"
     ]
    }
   ],
   "source": [
    "\n",
    "# List of keywords to match in the link text\n",
    "keywords = [\"NLM\", \"NIH\", \"HHS\", \"USA.gov\",\"Journals\", \"Neuron\",\"Neuroscience\",\"Cancer\",\"Disease\",\"Med\",\"Health\",\"Medical\"]\n",
    "\n",
    "# Extract all links\n",
    "links = soup.find_all('a')  # Finds all <a> tags (hyperlinks)\n",
    "\n",
    "print(\"Filtered Links:\")\n",
    "for i, link in enumerate(links, start=1):\n",
    "    href = link.get('href')  # Extract the URL\n",
    "    text = link.get_text(strip=True)  # Extract the clickable text of the link\n",
    "\n",
    "    # Check if the text matches any of the keywords\n",
    "    if any(keyword in text for keyword in keywords):\n",
    "        print(f\"{i}. Text: {text} | Link: {href}\")"
   ]
  },
  {
   "cell_type": "code",
   "execution_count": null,
   "metadata": {},
   "outputs": [],
   "source": []
  }
 ],
 "metadata": {
  "kernelspec": {
   "display_name": "venv",
   "language": "python",
   "name": "python3"
  },
  "language_info": {
   "codemirror_mode": {
    "name": "ipython",
    "version": 3
   },
   "file_extension": ".py",
   "mimetype": "text/x-python",
   "name": "python",
   "nbconvert_exporter": "python",
   "pygments_lexer": "ipython3",
   "version": "3.11.7"
  }
 },
 "nbformat": 4,
 "nbformat_minor": 2
}
