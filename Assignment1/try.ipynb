{
 "cells": [
  {
   "cell_type": "code",
   "execution_count": 1,
   "metadata": {},
   "outputs": [],
   "source": [
    "import requests\n",
    "from bs4 import BeautifulSoup\n",
    "import pandas as pd\n",
    "from urllib.parse import urljoin\n",
    "import json"
   ]
  },
  {
   "cell_type": "code",
   "execution_count": 2,
   "metadata": {},
   "outputs": [],
   "source": [
    "base_url=\"https://www.joghr.org/article/94931-understanding-key-factors-for-strengthening-nepal-s-healthcare-needs-health-systems-perspectives\"\n",
    "visited_urls=set()\n",
    "urls_to_visit=[base_url]\n",
    "max_documents=10\n",
    "number_of_documents=0\n",
    "scraped_data=[]"
   ]
  },
  {
   "cell_type": "code",
   "execution_count": null,
   "metadata": {},
   "outputs": [
    {
     "name": "stdout",
     "output_type": "stream",
     "text": [
      "200\n",
      "<class 'str'>\n",
      "<class 'bs4.BeautifulSoup'>\n",
      "200\n",
      "<class 'str'>\n",
      "<class 'bs4.BeautifulSoup'>\n",
      "200\n",
      "<class 'str'>\n",
      "<class 'bs4.BeautifulSoup'>\n",
      "200\n",
      "<class 'str'>\n",
      "<class 'bs4.BeautifulSoup'>\n",
      "999\n",
      "200\n",
      "<class 'str'>\n",
      "<class 'bs4.BeautifulSoup'>\n",
      "999\n",
      "200\n",
      "<class 'str'>\n",
      "<class 'bs4.BeautifulSoup'>\n",
      "999\n",
      "200\n",
      "<class 'str'>\n",
      "<class 'bs4.BeautifulSoup'>\n",
      "200\n",
      "<class 'str'>\n",
      "<class 'bs4.BeautifulSoup'>\n"
     ]
    }
   ],
   "source": [
    "while urls_to_visit and len(visited_urls) < max_documents:\n",
    "    current_url=urls_to_visit.pop()\n",
    "    if current_url in visited_urls:\n",
    "        continue\n",
    "    \n",
    "    try:\n",
    "        \n",
    "        response=requests.get(current_url,timeout=10)\n",
    "        print(response.status_code)\n",
    "        if response.status_code!=200:\n",
    "            continue\n",
    "\n",
    "        # print(response.text)\n",
    "        print(type(response.text))\n",
    "        soup=BeautifulSoup(response.text,\"html.parser\")\n",
    "        print(type(soup))\n",
    "        # print(soup)\n",
    "        \n",
    "        title=soup.title.text\n",
    "        paragraphs=soup.find_all('p')\n",
    "        # print(paragraphs)\n",
    "        content=\"\".join([p.text for  p in paragraphs])\n",
    "        # print(content)\n",
    "        # print(title)\n",
    "        scraped_data.append({'url':current_url,'title':title,'content':content})\n",
    "        visited_urls.add(current_url)\n",
    "        number_of_documents+=1\n",
    "        \n",
    "        for link in soup.find_all('a',href=True):\n",
    "            abosulteUrl=urljoin(current_url,link['href'])\n",
    "            if abosulteUrl not in visited_urls and abosulteUrl.startswith(\"http\"):\n",
    "                urls_to_visit.append(abosulteUrl)\n",
    "                \n",
    "    except Exception as e:\n",
    "        print(f\"Error crawling {current_url}: {e}\")\n",
    "\n",
    "    "
   ]
  },
  {
   "cell_type": "code",
   "execution_count": null,
   "metadata": {},
   "outputs": [],
   "source": [
    "print(number_of_documents)\n",
    "if scraped_data:\n",
    "    with open('healthcaredata.json', 'w', encoding='utf-8') as f:\n",
    "        json.dump(scraped_data, f, ensure_ascii=False, indent=4)\n",
    "    print(\"Data saved to healthcaredata.json\")\n",
    "else:\n",
    "    print(\"No data was scraped.\")"
   ]
  }
 ],
 "metadata": {
  "kernelspec": {
   "display_name": "Python 3",
   "language": "python",
   "name": "python3"
  },
  "language_info": {
   "codemirror_mode": {
    "name": "ipython",
    "version": 3
   },
   "file_extension": ".py",
   "mimetype": "text/x-python",
   "name": "python",
   "nbconvert_exporter": "python",
   "pygments_lexer": "ipython3",
   "version": "3.12.3"
  }
 },
 "nbformat": 4,
 "nbformat_minor": 2
}
