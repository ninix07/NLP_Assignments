{
 "cells": [
  {
   "cell_type": "code",
   "execution_count": 1,
   "metadata": {},
   "outputs": [
    {
     "name": "stdout",
     "output_type": "stream",
     "text": [
      "   ID                                              TITLE  \\\n",
      "0   1        Reconstructing Subject-Specific Effect Maps   \n",
      "1   2                 Rotation Invariance Neural Network   \n",
      "2   3  Spherical polyharmonics and Poisson kernels fo...   \n",
      "3   4  A finite element approximation for the stochas...   \n",
      "4   5  Comparative study of Discrete Wavelet Transfor...   \n",
      "\n",
      "                                            ABSTRACT  Computer Science  \\\n",
      "0    Predictive models allow subject-specific inf...                 1   \n",
      "1    Rotation invariance and translation invarian...                 1   \n",
      "2    We introduce and develop the notion of spher...                 0   \n",
      "3    The stochastic Landau--Lifshitz--Gilbert (LL...                 0   \n",
      "4    Fourier-transform infra-red (FTIR) spectra o...                 1   \n",
      "\n",
      "   Physics  Mathematics  Statistics  Quantitative Biology  \\\n",
      "0        0            0           0                     0   \n",
      "1        0            0           0                     0   \n",
      "2        0            1           0                     0   \n",
      "3        0            1           0                     0   \n",
      "4        0            0           1                     0   \n",
      "\n",
      "   Quantitative Finance  \n",
      "0                     0  \n",
      "1                     0  \n",
      "2                     0  \n",
      "3                     0  \n",
      "4                     0  \n"
     ]
    }
   ],
   "source": [
    "import pandas as pd\n",
    "df = pd.read_excel(\"Dataset-1.xlsx\")\n",
    "# Save as CSV\n",
    "df.to_csv(\"dataset.csv\", index=False)\n",
    "print(df.head())\n",
    "if df.isnull().values.any():\n",
    "    print(\"There are missing values\", df.isnull().sum())"
   ]
  },
  {
   "cell_type": "code",
   "execution_count": 2,
   "metadata": {},
   "outputs": [
    {
     "name": "stderr",
     "output_type": "stream",
     "text": [
      "[nltk_data] Downloading package stopwords to\n",
      "[nltk_data]     C:\\Users\\ACER\\AppData\\Roaming\\nltk_data...\n",
      "[nltk_data]   Package stopwords is already up-to-date!\n",
      "[nltk_data] Downloading package wordnet to\n",
      "[nltk_data]     C:\\Users\\ACER\\AppData\\Roaming\\nltk_data...\n",
      "[nltk_data]   Package wordnet is already up-to-date!\n"
     ]
    }
   ],
   "source": [
    "import re\n",
    "import nltk\n",
    "from nltk.corpus import stopwords\n",
    "from nltk.stem import PorterStemmer, WordNetLemmatizer \n",
    "# Download necessary resources\n",
    "nltk.download('stopwords')\n",
    "nltk.download('wordnet')\n",
    "\n",
    "stop_words= set(stopwords.words(\"english\"))\n",
    "stemmer= PorterStemmer() #used to remove the suffixes from an English word and obtain its stem\n",
    "lemmatizer= WordNetLemmatizer() #Returns the input word unchanged if it cannot be found in WordNet\n"
   ]
  },
  {
   "cell_type": "code",
   "execution_count": 3,
   "metadata": {},
   "outputs": [],
   "source": [
    "# Function to clean text\n",
    "def clean_text(text):\n",
    "    text = text.lower()  # Convert to lowercase\n",
    "    text = re.sub(r'\\W', ' ', text)  # Remove special characters\n",
    "    text = re.sub(r'\\d+', '', text)  # Remove numbers\n",
    "    text = ' '.join([word for word in text.split() if word not in stop_words])  # Remove stopwords\n",
    "    text = ' '.join([lemmatizer.lemmatize(word) for word in text.split()])  # Lemmatization\n",
    "    return text\n"
   ]
  },
  {
   "cell_type": "code",
   "execution_count": 4,
   "metadata": {},
   "outputs": [
    {
     "name": "stdout",
     "output_type": "stream",
     "text": [
      "                                               TITLE  \\\n",
      "0        Reconstructing Subject-Specific Effect Maps   \n",
      "1                 Rotation Invariance Neural Network   \n",
      "2  Spherical polyharmonics and Poisson kernels fo...   \n",
      "3  A finite element approximation for the stochas...   \n",
      "4  Comparative study of Discrete Wavelet Transfor...   \n",
      "\n",
      "                                            ABSTRACT  \\\n",
      "0    Predictive models allow subject-specific inf...   \n",
      "1    Rotation invariance and translation invarian...   \n",
      "2    We introduce and develop the notion of spher...   \n",
      "3    The stochastic Landau--Lifshitz--Gilbert (LL...   \n",
      "4    Fourier-transform infra-red (FTIR) spectra o...   \n",
      "\n",
      "                                       combined_text  \n",
      "0  reconstructing subject specific effect map pre...  \n",
      "1  rotation invariance neural network rotation in...  \n",
      "2  spherical polyharmonics poisson kernel polyhar...  \n",
      "3  finite element approximation stochastic maxwel...  \n",
      "4  comparative study discrete wavelet transforms ...  \n"
     ]
    }
   ],
   "source": [
    "# Apply cleaning to title and abstract\n",
    "df[\"clean_title\"] = df[\"TITLE\"].apply(clean_text)\n",
    "df[\"clean_abstract\"] = df[\"ABSTRACT\"].apply(clean_text)\n",
    "# Combine title and abstract\n",
    "df[\"combined_text\"] = df[\"clean_title\"] + \" \" + df[\"clean_abstract\"]\n",
    "\n",
    "# Display cleaned data\n",
    "print(df[[\"TITLE\", \"ABSTRACT\", \"combined_text\"]].head())"
   ]
  },
  {
   "cell_type": "code",
   "execution_count": null,
   "metadata": {},
   "outputs": [],
   "source": []
  },
  {
   "cell_type": "code",
   "execution_count": null,
   "metadata": {},
   "outputs": [],
   "source": []
  }
 ],
 "metadata": {
  "kernelspec": {
   "display_name": "Python 3",
   "language": "python",
   "name": "python3"
  },
  "language_info": {
   "codemirror_mode": {
    "name": "ipython",
    "version": 3
   },
   "file_extension": ".py",
   "mimetype": "text/x-python",
   "name": "python",
   "nbconvert_exporter": "python",
   "pygments_lexer": "ipython3",
   "version": "3.12.3"
  }
 },
 "nbformat": 4,
 "nbformat_minor": 2
}
