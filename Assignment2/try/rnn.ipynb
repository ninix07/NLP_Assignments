{
 "cells": [
  {
   "cell_type": "code",
   "execution_count": 72,
   "id": "b2485573-3be3-405e-abb3-5f703a71b33a",
   "metadata": {},
   "outputs": [],
   "source": [
    "import pandas as pd\n",
    "import numpy as np\n",
    "from sklearn.model_selection import train_test_split\n",
    "from nltk.corpus import stopwords\n",
    "from nltk.tokenize import word_tokenize\n",
    "import nltk\n",
    "\n",
    "from tensorflow.keras.preprocessing.text import Tokenizer\n",
    "from tensorflow.keras.preprocessing.sequence import pad_sequences\n",
    "from tensorflow.keras.models import Sequential\n",
    "from tensorflow.keras.layers import Embedding, LSTM, Dense, Dropout,BatchNormalization\n",
    "from sklearn.preprocessing import MultiLabelBinarizer\n"
   ]
  },
  {
   "cell_type": "code",
   "execution_count": 47,
   "id": "3c7bccf6-39b6-4c09-bfe6-e8d36285c38f",
   "metadata": {},
   "outputs": [],
   "source": [
    "df= pd.read_csv(\"../dataset-1.csv\")"
   ]
  },
  {
   "cell_type": "code",
   "execution_count": 48,
   "id": "bc87c94b-58a3-4c48-9dfe-265f0af054a9",
   "metadata": {},
   "outputs": [
    {
     "data": {
      "text/html": [
       "<div>\n",
       "<style scoped>\n",
       "    .dataframe tbody tr th:only-of-type {\n",
       "        vertical-align: middle;\n",
       "    }\n",
       "\n",
       "    .dataframe tbody tr th {\n",
       "        vertical-align: top;\n",
       "    }\n",
       "\n",
       "    .dataframe thead th {\n",
       "        text-align: right;\n",
       "    }\n",
       "</style>\n",
       "<table border=\"1\" class=\"dataframe\">\n",
       "  <thead>\n",
       "    <tr style=\"text-align: right;\">\n",
       "      <th></th>\n",
       "      <th>ID</th>\n",
       "      <th>TITLE</th>\n",
       "      <th>ABSTRACT</th>\n",
       "      <th>Computer Science</th>\n",
       "      <th>Physics</th>\n",
       "      <th>Mathematics</th>\n",
       "      <th>Statistics</th>\n",
       "      <th>Quantitative Biology</th>\n",
       "      <th>Quantitative Finance</th>\n",
       "    </tr>\n",
       "  </thead>\n",
       "  <tbody>\n",
       "    <tr>\n",
       "      <th>0</th>\n",
       "      <td>1</td>\n",
       "      <td>Reconstructing Subject-Specific Effect Maps</td>\n",
       "      <td>Predictive models allow subject-specific inf...</td>\n",
       "      <td>1</td>\n",
       "      <td>0</td>\n",
       "      <td>0</td>\n",
       "      <td>0</td>\n",
       "      <td>0</td>\n",
       "      <td>0</td>\n",
       "    </tr>\n",
       "    <tr>\n",
       "      <th>1</th>\n",
       "      <td>2</td>\n",
       "      <td>Rotation Invariance Neural Network</td>\n",
       "      <td>Rotation invariance and translation invarian...</td>\n",
       "      <td>1</td>\n",
       "      <td>0</td>\n",
       "      <td>0</td>\n",
       "      <td>0</td>\n",
       "      <td>0</td>\n",
       "      <td>0</td>\n",
       "    </tr>\n",
       "    <tr>\n",
       "      <th>2</th>\n",
       "      <td>3</td>\n",
       "      <td>Spherical polyharmonics and Poisson kernels fo...</td>\n",
       "      <td>We introduce and develop the notion of spher...</td>\n",
       "      <td>0</td>\n",
       "      <td>0</td>\n",
       "      <td>1</td>\n",
       "      <td>0</td>\n",
       "      <td>0</td>\n",
       "      <td>0</td>\n",
       "    </tr>\n",
       "    <tr>\n",
       "      <th>3</th>\n",
       "      <td>4</td>\n",
       "      <td>A finite element approximation for the stochas...</td>\n",
       "      <td>The stochastic Landau--Lifshitz--Gilbert (LL...</td>\n",
       "      <td>0</td>\n",
       "      <td>0</td>\n",
       "      <td>1</td>\n",
       "      <td>0</td>\n",
       "      <td>0</td>\n",
       "      <td>0</td>\n",
       "    </tr>\n",
       "    <tr>\n",
       "      <th>4</th>\n",
       "      <td>5</td>\n",
       "      <td>Comparative study of Discrete Wavelet Transfor...</td>\n",
       "      <td>Fourier-transform infra-red (FTIR) spectra o...</td>\n",
       "      <td>1</td>\n",
       "      <td>0</td>\n",
       "      <td>0</td>\n",
       "      <td>1</td>\n",
       "      <td>0</td>\n",
       "      <td>0</td>\n",
       "    </tr>\n",
       "  </tbody>\n",
       "</table>\n",
       "</div>"
      ],
      "text/plain": [
       "   ID                                              TITLE  \\\n",
       "0   1        Reconstructing Subject-Specific Effect Maps   \n",
       "1   2                 Rotation Invariance Neural Network   \n",
       "2   3  Spherical polyharmonics and Poisson kernels fo...   \n",
       "3   4  A finite element approximation for the stochas...   \n",
       "4   5  Comparative study of Discrete Wavelet Transfor...   \n",
       "\n",
       "                                            ABSTRACT  Computer Science  \\\n",
       "0    Predictive models allow subject-specific inf...                 1   \n",
       "1    Rotation invariance and translation invarian...                 1   \n",
       "2    We introduce and develop the notion of spher...                 0   \n",
       "3    The stochastic Landau--Lifshitz--Gilbert (LL...                 0   \n",
       "4    Fourier-transform infra-red (FTIR) spectra o...                 1   \n",
       "\n",
       "   Physics  Mathematics  Statistics  Quantitative Biology  \\\n",
       "0        0            0           0                     0   \n",
       "1        0            0           0                     0   \n",
       "2        0            1           0                     0   \n",
       "3        0            1           0                     0   \n",
       "4        0            0           1                     0   \n",
       "\n",
       "   Quantitative Finance  \n",
       "0                     0  \n",
       "1                     0  \n",
       "2                     0  \n",
       "3                     0  \n",
       "4                     0  "
      ]
     },
     "execution_count": 48,
     "metadata": {},
     "output_type": "execute_result"
    }
   ],
   "source": [
    "df.head()"
   ]
  },
  {
   "cell_type": "code",
   "execution_count": 49,
   "id": "2061b12c-262e-4bb1-ad21-dd872078f16e",
   "metadata": {},
   "outputs": [
    {
     "name": "stderr",
     "output_type": "stream",
     "text": [
      "[nltk_data] Downloading package punkt to\n",
      "[nltk_data]     C:\\Users\\ACER\\AppData\\Roaming\\nltk_data...\n",
      "[nltk_data]   Package punkt is already up-to-date!\n",
      "[nltk_data] Downloading package stopwords to\n",
      "[nltk_data]     C:\\Users\\ACER\\AppData\\Roaming\\nltk_data...\n",
      "[nltk_data]   Package stopwords is already up-to-date!\n",
      "[nltk_data] Downloading package wordnet to\n",
      "[nltk_data]     C:\\Users\\ACER\\AppData\\Roaming\\nltk_data...\n",
      "[nltk_data]   Package wordnet is already up-to-date!\n"
     ]
    },
    {
     "data": {
      "text/plain": [
       "True"
      ]
     },
     "execution_count": 49,
     "metadata": {},
     "output_type": "execute_result"
    }
   ],
   "source": [
    "nltk.download('punkt')\n",
    "nltk.download('stopwords')\n",
    "nltk.download('wordnet')"
   ]
  },
  {
   "cell_type": "code",
   "execution_count": 50,
   "id": "67288478-bb36-4420-8aa1-e43a09fcda8a",
   "metadata": {},
   "outputs": [],
   "source": [
    "stopWords = stopwords.words('english')"
   ]
  },
  {
   "cell_type": "code",
   "execution_count": 51,
   "id": "211a6927-7da0-408b-96da-2f130d4f791d",
   "metadata": {},
   "outputs": [],
   "source": [
    "def process(text):\n",
    "    words = word_tokenize(text.lower())\n",
    "    words = [word for word in words if word not in stopWords]\n",
    "    return \" \".join(words)"
   ]
  },
  {
   "cell_type": "code",
   "execution_count": 52,
   "id": "d2277341-a8c4-47cd-8678-b0ebad421e54",
   "metadata": {},
   "outputs": [],
   "source": [
    "df[\"processedText\"] = df[\"TITLE\"] + \" \" + df[\"ABSTRACT\"]\n",
    "df[\"processedText\"] = df[\"processedText\"].map(process)"
   ]
  },
  {
   "cell_type": "code",
   "execution_count": 53,
   "id": "015da9b9-9983-4be4-8a95-5a1ccb771721",
   "metadata": {},
   "outputs": [
    {
     "name": "stdout",
     "output_type": "stream",
     "text": [
      "0        reconstructing subject-specific effect maps pr...\n",
      "1        rotation invariance neural network rotation in...\n",
      "2        spherical polyharmonics poisson kernels polyha...\n",
      "3        finite element approximation stochastic maxwel...\n",
      "4        comparative study discrete wavelet transforms ...\n",
      "                               ...                        \n",
      "20967    contemporary machine learning : guide practiti...\n",
      "20968    uniform diamond coatings wc-co hard alloy cutt...\n",
      "20969    analysing soccer games clustering conceptors p...\n",
      "20970    efficient simulation left-tail sum correlated ...\n",
      "20971    optional stopping problem bayesians recently ,...\n",
      "Name: processedText, Length: 20972, dtype: object\n",
      "[[1 0 0 0 0 0]\n",
      " [1 0 0 0 0 0]\n",
      " [0 0 1 0 0 0]\n",
      " ...\n",
      " [1 0 0 0 0 0]\n",
      " [0 0 1 1 0 0]\n",
      " [0 0 1 1 0 0]]\n"
     ]
    }
   ],
   "source": [
    "X = df[\"processedText\"]\n",
    "y = df.iloc[:, 3:-1]\n",
    "print(X)\n",
    "# print(y)\n",
    "y=y.values\n",
    "print(y)"
   ]
  },
  {
   "cell_type": "code",
   "execution_count": 54,
   "id": "6bf96013",
   "metadata": {},
   "outputs": [],
   "source": [
    "X_train, X_test, y_train, y_test = train_test_split(X, y, test_size=0.2, random_state=30)"
   ]
  },
  {
   "cell_type": "code",
   "execution_count": null,
   "id": "4154b499",
   "metadata": {},
   "outputs": [
    {
     "name": "stdout",
     "output_type": "stream",
     "text": [
      "11226    relative merits phononics vs. plasmonics : ene...\n",
      "9388     2d metamaterial auxetic out-of-plane behavior ...\n",
      "19085    fast matrix inversion determinant computation ...\n",
      "20450    neuronal models neuronal dynamics image proces...\n",
      "20722    memory augmented control networks planning pro...\n",
      "                               ...                        \n",
      "500      compact design velocity-map imaging energetic ...\n",
      "12077    life `` matrix '' : human mobility patterns cy...\n",
      "15277    inverse antiplane problem $ n $ uniformly stre...\n",
      "4517     floquet analysis kuznetsov -- breathers : path...\n",
      "5925     numerical study f-model domain-wall boundaries...\n",
      "Name: processedText, Length: 16777, dtype: object\n"
     ]
    }
   ],
   "source": [
    "# print(X_train)\n",
    "max_words = 5000\n",
    "tokenizer = Tokenizer(num_words=max_words, oov_token=\"<OOV>\")\n",
    "tokenizer.fit_on_texts(X_train)\n",
    "print(X_train)"
   ]
  },
  {
   "cell_type": "code",
   "execution_count": 56,
   "id": "662d0891",
   "metadata": {},
   "outputs": [],
   "source": [
    "X_train_seq = tokenizer.texts_to_sequences(X_train)\n",
    "X_test_seq = tokenizer.texts_to_sequences(X_test)\n"
   ]
  },
  {
   "cell_type": "code",
   "execution_count": 57,
   "id": "5a4d0c6b",
   "metadata": {},
   "outputs": [
    {
     "name": "stdout",
     "output_type": "stream",
     "text": [
      "[[ 629 5181    1 ...  316 9431  159]\n",
      " [ 855 4920    1 ...    0    0    0]\n",
      " [ 409  120 2222 ...    0    0    0]\n",
      " ...\n",
      " [ 704    1   16 ...    0    0    0]\n",
      " [4650   28    1 ...    0    0    0]\n",
      " [ 139   26  109 ...    0    0    0]]\n"
     ]
    }
   ],
   "source": [
    "max_length = 148\n",
    "X_train_padded = pad_sequences(X_train_seq, maxlen=max_length, padding='post', truncating='post')\n",
    "X_test_padded = pad_sequences(X_test_seq, maxlen=max_length, padding='post', truncating='post')\n",
    "print(X_train_padded)\n"
   ]
  },
  {
   "cell_type": "code",
   "execution_count": 73,
   "id": "afeb4f41",
   "metadata": {},
   "outputs": [],
   "source": [
    "model = Sequential([\n",
    "    # Word Embeddings\n",
    "    Embedding(input_dim=max_words, output_dim=128, input_length=max_length),\n",
    "\n",
    "    # First LSTM Layer with Batch Normalization\n",
    "    LSTM(128, return_sequences=True),\n",
    "    BatchNormalization(),\n",
    "    Dropout(0.3),\n",
    "\n",
    "    # Second LSTM Layer\n",
    "    LSTM(64, return_sequences=False),\n",
    "    BatchNormalization(),\n",
    "    Dropout(0.3),\n",
    "\n",
    "    # Fully Connected Layers\n",
    "    Dense(128, activation='relu'),\n",
    "    BatchNormalization(),\n",
    "    Dropout(0.3),\n",
    "\n",
    "    Dense(64, activation='relu'),\n",
    "    Dropout(0.3),\n",
    "\n",
    "    # Output Layer for Multi-label Classification\n",
    "    Dense(y.shape[1], activation='sigmoid')\n",
    "])\n"
   ]
  },
  {
   "cell_type": "code",
   "execution_count": 74,
   "id": "4140b92b",
   "metadata": {},
   "outputs": [],
   "source": [
    "model.compile(optimizer='adam', loss='binary_crossentropy', metrics=['accuracy'])\n"
   ]
  },
  {
   "cell_type": "code",
   "execution_count": 75,
   "id": "45231442",
   "metadata": {},
   "outputs": [
    {
     "name": "stdout",
     "output_type": "stream",
     "text": [
      "Epoch 1/10\n",
      "\u001b[1m525/525\u001b[0m \u001b[32m━━━━━━━━━━━━━━━━━━━━\u001b[0m\u001b[37m\u001b[0m \u001b[1m97s\u001b[0m 175ms/step - accuracy: 0.2881 - loss: 0.5603 - val_accuracy: 0.2112 - val_loss: 0.5021\n",
      "Epoch 2/10\n",
      "\u001b[1m525/525\u001b[0m \u001b[32m━━━━━━━━━━━━━━━━━━━━\u001b[0m\u001b[37m\u001b[0m \u001b[1m162s\u001b[0m 214ms/step - accuracy: 0.4586 - loss: 0.4156 - val_accuracy: 0.2741 - val_loss: 0.6150\n",
      "Epoch 3/10\n",
      "\u001b[1m525/525\u001b[0m \u001b[32m━━━━━━━━━━━━━━━━━━━━\u001b[0m\u001b[37m\u001b[0m \u001b[1m112s\u001b[0m 213ms/step - accuracy: 0.7577 - loss: 0.2709 - val_accuracy: 0.5216 - val_loss: 0.4541\n",
      "Epoch 4/10\n",
      "\u001b[1m525/525\u001b[0m \u001b[32m━━━━━━━━━━━━━━━━━━━━\u001b[0m\u001b[37m\u001b[0m \u001b[1m146s\u001b[0m 222ms/step - accuracy: 0.7681 - loss: 0.2220 - val_accuracy: 0.6255 - val_loss: 0.9932\n",
      "Epoch 5/10\n",
      "\u001b[1m525/525\u001b[0m \u001b[32m━━━━━━━━━━━━━━━━━━━━\u001b[0m\u001b[37m\u001b[0m \u001b[1m138s\u001b[0m 214ms/step - accuracy: 0.7764 - loss: 0.1868 - val_accuracy: 0.4467 - val_loss: 0.6404\n",
      "Epoch 6/10\n",
      "\u001b[1m525/525\u001b[0m \u001b[32m━━━━━━━━━━━━━━━━━━━━\u001b[0m\u001b[37m\u001b[0m \u001b[1m107s\u001b[0m 203ms/step - accuracy: 0.7880 - loss: 0.1671 - val_accuracy: 0.3044 - val_loss: 0.4460\n",
      "Epoch 7/10\n",
      "\u001b[1m525/525\u001b[0m \u001b[32m━━━━━━━━━━━━━━━━━━━━\u001b[0m\u001b[37m\u001b[0m \u001b[1m104s\u001b[0m 197ms/step - accuracy: 0.7928 - loss: 0.1518 - val_accuracy: 0.4305 - val_loss: 1.7494\n",
      "Epoch 8/10\n",
      "\u001b[1m525/525\u001b[0m \u001b[32m━━━━━━━━━━━━━━━━━━━━\u001b[0m\u001b[37m\u001b[0m \u001b[1m106s\u001b[0m 202ms/step - accuracy: 0.7946 - loss: 0.1373 - val_accuracy: 0.5948 - val_loss: 0.3854\n",
      "Epoch 9/10\n",
      "\u001b[1m525/525\u001b[0m \u001b[32m━━━━━━━━━━━━━━━━━━━━\u001b[0m\u001b[37m\u001b[0m \u001b[1m105s\u001b[0m 200ms/step - accuracy: 0.8057 - loss: 0.1191 - val_accuracy: 0.7204 - val_loss: 0.3177\n",
      "Epoch 10/10\n",
      "\u001b[1m525/525\u001b[0m \u001b[32m━━━━━━━━━━━━━━━━━━━━\u001b[0m\u001b[37m\u001b[0m \u001b[1m147s\u001b[0m 210ms/step - accuracy: 0.8100 - loss: 0.1107 - val_accuracy: 0.5869 - val_loss: 0.3733\n"
     ]
    },
    {
     "data": {
      "text/plain": [
       "<keras.src.callbacks.history.History at 0x19e87b63890>"
      ]
     },
     "execution_count": 75,
     "metadata": {},
     "output_type": "execute_result"
    }
   ],
   "source": [
    "model.fit(X_train_padded, y_train, validation_data=(X_test_padded, y_test), epochs=10, batch_size=32)\n"
   ]
  },
  {
   "cell_type": "code",
   "execution_count": null,
   "id": "94ba8c2e",
   "metadata": {},
   "outputs": [
    {
     "name": "stdout",
     "output_type": "stream",
     "text": [
      "\u001b[1m132/132\u001b[0m \u001b[32m━━━━━━━━━━━━━━━━━━━━\u001b[0m\u001b[37m\u001b[0m \u001b[1m4s\u001b[0m 33ms/step\n",
      "F1 Score at threshold 0.4: 0.7864\n",
      "F1 Score at threshold 0.5: 0.7837\n",
      "F1 Score at threshold 0.6: 0.7795\n",
      "Subset Accuracy: 0.6155\n",
      "Hamming Loss: 0.0903\n",
      "F1 Score (Micro): 0.7795\n",
      "F1 Score (Macro): 0.5368\n",
      "Jaccard Similarity Score: 0.7407\n"
     ]
    }
   ],
   "source": [
    "from sklearn.metrics import accuracy_score, hamming_loss, f1_score, jaccard_score\n",
    "\n",
    "threshold = 0.5  \n",
    "y_pred_prob = model.predict(X_test_padded)\n",
    "\n",
    "y_pred = (y_pred_prob > threshold).astype(int)\n",
    "\n",
    "\n",
    "# Compute metrics\n",
    "accuracy = accuracy_score(y_test, y_pred)\n",
    "hamming = hamming_loss(y_test, y_pred)\n",
    "f1_micro = f1_score(y_test, y_pred, average='micro')\n",
    "f1_macro = f1_score(y_test, y_pred, average='macro')\n",
    "jaccard = jaccard_score(y_test, y_pred, average='samples')\n",
    "\n",
    "# Print results\n",
    "print(f\"Subset Accuracy: {accuracy:.4f}\")\n",
    "print(f\"Hamming Loss: {hamming:.4f}\")\n",
    "print(f\"F1 Score (Micro): {f1_micro:.4f}\")\n",
    "print(f\"F1 Score (Macro): {f1_macro:.4f}\")\n",
    "print(f\"Jaccard Similarity Score: {jaccard:.4f}\")\n"
   ]
  },
  {
   "cell_type": "code",
   "execution_count": 62,
   "id": "5e80031c",
   "metadata": {},
   "outputs": [
    {
     "name": "stdout",
     "output_type": "stream",
     "text": [
      "\u001b[1m132/132\u001b[0m \u001b[32m━━━━━━━━━━━━━━━━━━━━\u001b[0m\u001b[37m\u001b[0m \u001b[1m11s\u001b[0m 85ms/step\n",
      "[[9.9965912e-01 9.6541150e-03 7.2122458e-03 9.1990991e-04 1.6118425e-04\n",
      "  3.8834518e-05]\n",
      " [5.0098682e-04 9.9956191e-01 3.6089562e-04 1.1473326e-03 3.5452086e-04\n",
      "  3.7887019e-06]\n",
      " [1.5766552e-04 9.9978453e-01 1.2740152e-03 4.7753623e-04 7.4151576e-05\n",
      "  3.0351089e-06]\n",
      " ...\n",
      " [9.9264395e-01 2.9766096e-02 5.6273453e-03 2.2353631e-02 4.6986556e-03\n",
      "  5.1594124e-04]\n",
      " [9.1548592e-02 9.9566036e-01 1.6158741e-04 2.5023371e-03 2.4060970e-03\n",
      "  1.0314655e-05]\n",
      " [7.1497113e-02 6.5226930e-01 3.2345885e-01 7.0801094e-02 6.8223417e-02\n",
      "  1.2342438e-01]]\n",
      "Paper 1 Predicted Topics: ['Computer Science']\n",
      "Paper 2 Predicted Topics: ['Physics']\n",
      "Paper 3 Predicted Topics: ['Physics']\n",
      "Paper 4 Predicted Topics: ['Mathematics']\n",
      "Paper 5 Predicted Topics: ['Computer Science']\n"
     ]
    }
   ],
   "source": [
    "import pandas as pd\n",
    "\n",
    "# Make predictions\n",
    "y_pred_prob = model.predict(X_test_padded)\n",
    "print(y_pred_prob)\n",
    "# Convert probabilities to binary labels using a threshold (e.g., 0.5)\n",
    "threshold = 0.5\n",
    "y_pred = (y_pred_prob >= threshold).astype(int)\n",
    "\n",
    "# Get topic names from DataFrame columns\n",
    "topic_names = df.columns[3:-1]  # Fix: Use original column names\n",
    "\n",
    "# Convert predicted labels into human-readable topic names\n",
    "predicted_topics = []\n",
    "for pred in y_pred:\n",
    "    topics = [topic_names[i] for i in range(len(pred)) if pred[i] == 1]\n",
    "    predicted_topics.append(topics)\n",
    "\n",
    "# Display example predictions\n",
    "for i in range(5):\n",
    "    print(f\"Paper {i+1} Predicted Topics: {predicted_topics[i]}\")\n"
   ]
  },
  {
   "cell_type": "code",
   "execution_count": 63,
   "id": "aff1808f",
   "metadata": {},
   "outputs": [
    {
     "name": "stdout",
     "output_type": "stream",
     "text": [
      "[[ 147 3419 1422 ...    0    0    0]\n",
      " [1740  645 2115 ...    0    0    0]\n",
      " [1472  308  527 ...    0    0    0]\n",
      " ...\n",
      " [ 977   28  724 ...    0    0    0]\n",
      " [3499 2454  990 ...    0    0    0]\n",
      " [ 571   43  295 ...    0    0    0]]\n"
     ]
    }
   ],
   "source": [
    "print(X_test_padded)"
   ]
  }
 ],
 "metadata": {
  "kernelspec": {
   "display_name": "Python 3 (ipykernel)",
   "language": "python",
   "name": "python3"
  },
  "language_info": {
   "codemirror_mode": {
    "name": "ipython",
    "version": 3
   },
   "file_extension": ".py",
   "mimetype": "text/x-python",
   "name": "python",
   "nbconvert_exporter": "python",
   "pygments_lexer": "ipython3",
   "version": "3.12.1"
  }
 },
 "nbformat": 4,
 "nbformat_minor": 5
}
